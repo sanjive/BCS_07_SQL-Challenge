{
 "cells": [
  {
   "cell_type": "markdown",
   "metadata": {},
   "source": [
    "# SQL Challenge\n",
    "----\n",
    "\n",
    "## Instructions\n",
    "\n",
    "1. Data Modeling\n",
    "Inspect the CSVs and sketch out an ERD of the tables. Feel free to use a tool like http://www.quickdatabasediagrams.com.\n",
    "\n",
    "2. Data Engineering\n",
    "Use the information you have to create a table schema for each of the six CSV files. Remember to specify data types, primary keys, foreign keys, and other constraints. Be sure to create tables in the correct order to handle foreign keys.\n",
    "\n",
    "Import each CSV file into the corresponding SQL table. Note be sure to import the data in the same order that the tables were created and account for the headers when importing to avoid errors.\n",
    "\n",
    "### Data Analysis\n",
    "Once you have a complete database, do the following:\n",
    "\n",
    "1. List the following details of each employee: employee number, last name, first name, sex, and salary.\n",
    "2. List first name, last name, and hire date for employees who were hired in 1986.\n",
    "3. List the manager of each department with the following information: department number, department name, the manager's employee number, last name, first name.\n",
    "4. List the department of each employee with the following information: employee number, last name, first name, and department name.\n",
    "5. List first name, last name, and sex for employees whose first name is \"Hercules\" and last names begin with \"B.\"\n",
    "6. List all employees in the Sales department, including their employee number, last name, first name, and department name.\n",
    "7. List all employees in the Sales and Development departments, including their employee number, last name, first name, and department name.\n",
    "8. In descending order, list the frequency count of employee last names, i.e., how many employees share each last name.\n",
    "\n",
    "### Bonus (Optional)\n",
    "As you examine the data, you are overcome with a creeping suspicion that the dataset is fake. You surmise that your boss handed you spurious data in order to test the data engineering skills of a new employee. To confirm your hunch, you decide to take the following steps to generate a visualization of the data, with which you will confront your boss:\n",
    "\n",
    "Import the SQL database into Pandas. (Yes, you could read the CSVs directly in Pandas, but you are, after all, trying to prove your technical mettle.) This step may require some research. Feel free to use the code below to get started. Be sure to make any necessary modifications for your username, password, host, port, and database name:\n",
    "\n",
    "    from sqlalchemy import create_engine\n",
    "    engine = create_engine('postgresql://localhost:5432/<your_db_name>')\n",
    "    connection = engine.connect()\n",
    "    Consult SQLAlchemy documentation for more information.\n",
    "\n",
    "If using a password, do not upload your password to your GitHub repository. See https://www.youtube.com/watch?v=2uaTPmNvH0I and https://martin-thoma.com/configuration-files-in-python/ for more information.\n",
    "\n",
    "1. Create a histogram to visualize the most common salary ranges for employees.\n",
    "2. Create a bar chart of average salary by title.\n",
    "\n",
    "#### Epilogue\n",
    "Evidence in hand, you march into your boss's office and present the visualization. With a sly grin, your boss thanks you for your work. On your way out of the office, you hear the words, \"Search your ID number.\" You look down at your badge to see that your employee ID number is 499942.\n",
    "\n",
    "## Submission\n",
    "1. Create an image file of your ERD.\n",
    "2. Create a .sql file of your table schemata.\n",
    "3. Create a .sql file of your queries.\n",
    "4. (Optional) Create a Jupyter Notebook of the bonus analysis.\n",
    "5. Create and upload a repository with the above files to GitHub and post a link on BootCamp Spot."
   ]
  },
  {
   "cell_type": "markdown",
   "metadata": {},
   "source": [
    "# Submissions\n",
    "-----\n",
    "#### Employee data loaded from the files in the in folder Data)\n",
    "#### ERD image file - employee-erd.png (in folder EmployeeSQL)\n",
    "#### Employee Schemata .sql file - employee-schema.sql (in folder EmployeeSQL)\n",
    "#### Employee Queries .sql file - employee-sql (in folder EmployeeSQL)\n",
    "#### Jupyter Notebook - jupyter_employee with the bonus analysis (in folder root folder)\n",
    "#### The images (fig01-employee-salary.png and fig02-avg-salary-by-title.png) created in the Jupyter notebook saved (in folder output)\n"
   ]
  },
  {
   "cell_type": "code",
   "execution_count": 1,
   "metadata": {
    "ExecuteTime": {
     "end_time": "2020-04-29T17:22:21.793141Z",
     "start_time": "2020-04-29T17:22:21.125033Z"
    }
   },
   "outputs": [],
   "source": [
    "# Import required libraries\n",
    "import os\n",
    "import pandas as pd\n",
    "import numpy as np\n",
    "import matplotlib.pyplot as plt\n",
    "import sqlalchemy as db"
   ]
  },
  {
   "cell_type": "code",
   "execution_count": 2,
   "metadata": {
    "ExecuteTime": {
     "end_time": "2020-04-29T17:22:21.808840Z",
     "start_time": "2020-04-29T17:22:21.793141Z"
    }
   },
   "outputs": [],
   "source": [
    "# Load the data from the .env file for the project\n",
    "# Download and install python-dotenv library; use \"pip install python-dotenv\"\n",
    "# Also need to include the .env file in the root folder and add it to the \n",
    "# This .env file has the values for connecting to the Postgres DB server.\n",
    "# This methods prevents any hardcoded id and password in the code.\n",
    "\n",
    "from dotenv import load_dotenv\n",
    "load_dotenv()\n",
    "\n",
    "# Get the Postgres related details\n",
    "db_driver = os.environ.get('DB_DRIVER')\n",
    "postgres_server = os.environ.get('POSTGRES_SERVER')\n",
    "postgres_server_port = os.environ.get('POSTGRES_SERVER_PORT')\n",
    "postgres_db = os.environ.get('POSTGRES_DB')\n",
    "postgres_user = os.environ.get('POSTGRES_USER')\n",
    "postgres_pwd = os.environ.get('POSTGRES_PWD')"
   ]
  },
  {
   "cell_type": "code",
   "execution_count": 3,
   "metadata": {
    "ExecuteTime": {
     "end_time": "2020-04-29T17:22:21.884831Z",
     "start_time": "2020-04-29T17:22:21.811806Z"
    }
   },
   "outputs": [],
   "source": [
    "# Create a connection to the Postgres database engine\n",
    "#connection_string = 'postgresql://<user>:<pwd>@<host>:<port>/<database>'\n",
    "connection_string = f'{db_driver}://{postgres_user}:{postgres_pwd}@{postgres_server}:{postgres_server_port}/{postgres_db}'\n",
    "engine = db.create_engine(connection_string)\n",
    "connection = engine.connect()"
   ]
  },
  {
   "cell_type": "code",
   "execution_count": 4,
   "metadata": {
    "ExecuteTime": {
     "end_time": "2020-04-29T17:22:22.487945Z",
     "start_time": "2020-04-29T17:22:21.886831Z"
    },
    "code_folding": []
   },
   "outputs": [
    {
     "data": {
      "text/plain": [
       "[(10001, 'Facello', 'Georgi', 'M', 60117),\n",
       " (10002, 'Simmel', 'Bezalel', 'F', 65828),\n",
       " (10003, 'Bamford', 'Parto', 'M', 40006),\n",
       " (10004, 'Koblick', 'Chirstian', 'M', 40054),\n",
       " (10005, 'Maliniak', 'Kyoichi', 'M', 78228)]"
      ]
     },
     "execution_count": 4,
     "metadata": {},
     "output_type": "execute_result"
    }
   ],
   "source": [
    "# Execute the query against the Postgres DB using the \"connection\"\n",
    "# SQL query to get the salary of all the employees from the employee_db in Postgres\n",
    "query = 'select e.emp_no as \"Employee Number\" \\\n",
    "               ,e.last_name as \"Last Name\" \\\n",
    "               ,e.first_name as \"First Name\" \\\n",
    "               ,e.sex as \"Gender\" \\\n",
    "               ,s.salary as \"Salary\" \\\n",
    "           from public.employees as e \\\n",
    "                left join public.salaries as s on (e.emp_no = s.emp_no) \\\n",
    "       order by e.emp_no;'\n",
    "\n",
    "ResultProxy = connection.execute(query)\n",
    "ResultSet = ResultProxy.fetchall()\n",
    "\n",
    "# Display first 5 records\n",
    "ResultSet[:5]"
   ]
  },
  {
   "cell_type": "code",
   "execution_count": 5,
   "metadata": {
    "ExecuteTime": {
     "end_time": "2020-04-29T17:22:22.809086Z",
     "start_time": "2020-04-29T17:22:22.489940Z"
    }
   },
   "outputs": [
    {
     "data": {
      "text/html": [
       "<div>\n",
       "<style scoped>\n",
       "    .dataframe tbody tr th:only-of-type {\n",
       "        vertical-align: middle;\n",
       "    }\n",
       "\n",
       "    .dataframe tbody tr th {\n",
       "        vertical-align: top;\n",
       "    }\n",
       "\n",
       "    .dataframe thead th {\n",
       "        text-align: right;\n",
       "    }\n",
       "</style>\n",
       "<table border=\"1\" class=\"dataframe\">\n",
       "  <thead>\n",
       "    <tr style=\"text-align: right;\">\n",
       "      <th></th>\n",
       "      <th>Employee Number</th>\n",
       "      <th>Last Name</th>\n",
       "      <th>First Name</th>\n",
       "      <th>Gender</th>\n",
       "      <th>Salary</th>\n",
       "    </tr>\n",
       "  </thead>\n",
       "  <tbody>\n",
       "    <tr>\n",
       "      <th>0</th>\n",
       "      <td>10001</td>\n",
       "      <td>Facello</td>\n",
       "      <td>Georgi</td>\n",
       "      <td>M</td>\n",
       "      <td>60117</td>\n",
       "    </tr>\n",
       "    <tr>\n",
       "      <th>1</th>\n",
       "      <td>10002</td>\n",
       "      <td>Simmel</td>\n",
       "      <td>Bezalel</td>\n",
       "      <td>F</td>\n",
       "      <td>65828</td>\n",
       "    </tr>\n",
       "    <tr>\n",
       "      <th>2</th>\n",
       "      <td>10003</td>\n",
       "      <td>Bamford</td>\n",
       "      <td>Parto</td>\n",
       "      <td>M</td>\n",
       "      <td>40006</td>\n",
       "    </tr>\n",
       "    <tr>\n",
       "      <th>3</th>\n",
       "      <td>10004</td>\n",
       "      <td>Koblick</td>\n",
       "      <td>Chirstian</td>\n",
       "      <td>M</td>\n",
       "      <td>40054</td>\n",
       "    </tr>\n",
       "    <tr>\n",
       "      <th>4</th>\n",
       "      <td>10005</td>\n",
       "      <td>Maliniak</td>\n",
       "      <td>Kyoichi</td>\n",
       "      <td>M</td>\n",
       "      <td>78228</td>\n",
       "    </tr>\n",
       "  </tbody>\n",
       "</table>\n",
       "</div>"
      ],
      "text/plain": [
       "   Employee Number Last Name First Name Gender  Salary\n",
       "0            10001   Facello     Georgi      M   60117\n",
       "1            10002    Simmel    Bezalel      F   65828\n",
       "2            10003   Bamford      Parto      M   40006\n",
       "3            10004   Koblick  Chirstian      M   40054\n",
       "4            10005  Maliniak    Kyoichi      M   78228"
      ]
     },
     "execution_count": 5,
     "metadata": {},
     "output_type": "execute_result"
    }
   ],
   "source": [
    "#Create a Pandas DataFrame to analyze the Salary data\n",
    "salary_df = pd.DataFrame(ResultSet)\n",
    "salary_df.columns = ['Employee Number','Last Name','First Name','Gender','Salary']\n",
    "salary_df.head()"
   ]
  },
  {
   "cell_type": "code",
   "execution_count": 6,
   "metadata": {
    "ExecuteTime": {
     "end_time": "2020-04-29T17:22:23.520996Z",
     "start_time": "2020-04-29T17:22:22.810084Z"
    }
   },
   "outputs": [
    {
     "data": {
      "image/png": "[encoded data removed]",
      "text/plain": [
       "<Figure size 1008x432 with 1 Axes>"
      ]
     },
     "metadata": {
      "needs_background": "light"
     },
     "output_type": "display_data"
    }
   ],
   "source": [
    "# Plot the histogram for the Employee Salary.\n",
    "\n",
    "salary_list = salary_df['Salary']\n",
    "\n",
    "# Create 10 bins for the histogram\n",
    "bins = np.linspace(salary_list.min(), salary_list.max(), 10)\n",
    "\n",
    "plt.figure(figsize=[14,6])\n",
    "plt.title('Employee Salary Distribution', fontsize=15)\n",
    "plt.xlabel('Salary', fontsize=15)\n",
    "plt.ylabel('Frequency', fontsize=15)\n",
    "plt.xticks(fontsize=15)\n",
    "plt.yticks(fontsize=15)\n",
    "plt.xticks(rotation=90)\n",
    "plt.grid(axis='y', alpha=0.75)\n",
    "plt.legend(['Salary'], loc='best')\n",
    "\n",
    "# Plot the Histogram\n",
    "n, bins, patches = plt.hist(x=salary_list, bins=bins, color='#0504aa', alpha=0.7, rwidth=1.0)\n",
    "\n",
    "plt.savefig('./output/fig01-employee-salary.png', format='png', bbox_inches='tight', dpi=300)  "
   ]
  },
  {
   "cell_type": "code",
   "execution_count": 7,
   "metadata": {
    "ExecuteTime": {
     "end_time": "2020-04-29T17:22:23.754829Z",
     "start_time": "2020-04-29T17:22:23.522991Z"
    }
   },
   "outputs": [
    {
     "data": {
      "text/plain": [
       "[('Assistant Engineer', 48564),\n",
       " ('Engineer', 48535),\n",
       " ('Manager', 51531),\n",
       " ('Senior Engineer', 48507),\n",
       " ('Senior Staff', 58550),\n",
       " ('Staff', 58465),\n",
       " ('Technique Leader', 48583)]"
      ]
     },
     "execution_count": 7,
     "metadata": {},
     "output_type": "execute_result"
    }
   ],
   "source": [
    "# Get the data to plot the \"Employee Average Salary by Title\"\n",
    "# Execute the query against the Postgres DB using the \"connection\"\n",
    "# SQL query to get the \"Employee Average Salary by Title\" from the \"employee_db\" in Postgres\n",
    "# The query uses left outer join though it is not required as all the employees have a correspoding\n",
    "# record in the other 2 tables by the left join.\n",
    "\n",
    "query = 'select t.title as \"Title\" \\\n",
    "               ,cast(round(avg(s.salary), 0) as integer) as \"Avg Salary\" \\\n",
    "           from public.employees as e \\\n",
    "                left join public.salaries as s on (e.emp_no = s.emp_no) \\\n",
    "                left join public.titles as t on (e.emp_title_id = t.title_id) \\\n",
    "       group by t.title \\\n",
    "       order by t.title;'\n",
    "\n",
    "ResultProxy = connection.execute(query)\n",
    "ResultSet = ResultProxy.fetchall()\n",
    "\n",
    "# Display all the data retrieved\n",
    "ResultSet[:]"
   ]
  },
  {
   "cell_type": "code",
   "execution_count": 8,
   "metadata": {
    "ExecuteTime": {
     "end_time": "2020-04-29T17:22:23.765800Z",
     "start_time": "2020-04-29T17:22:23.756793Z"
    }
   },
   "outputs": [
    {
     "data": {
      "text/html": [
       "<div>\n",
       "<style scoped>\n",
       "    .dataframe tbody tr th:only-of-type {\n",
       "        vertical-align: middle;\n",
       "    }\n",
       "\n",
       "    .dataframe tbody tr th {\n",
       "        vertical-align: top;\n",
       "    }\n",
       "\n",
       "    .dataframe thead th {\n",
       "        text-align: right;\n",
       "    }\n",
       "</style>\n",
       "<table border=\"1\" class=\"dataframe\">\n",
       "  <thead>\n",
       "    <tr style=\"text-align: right;\">\n",
       "      <th></th>\n",
       "      <th>Title</th>\n",
       "      <th>Avg Salary</th>\n",
       "    </tr>\n",
       "  </thead>\n",
       "  <tbody>\n",
       "    <tr>\n",
       "      <th>0</th>\n",
       "      <td>Assistant Engineer</td>\n",
       "      <td>48564</td>\n",
       "    </tr>\n",
       "    <tr>\n",
       "      <th>1</th>\n",
       "      <td>Engineer</td>\n",
       "      <td>48535</td>\n",
       "    </tr>\n",
       "    <tr>\n",
       "      <th>2</th>\n",
       "      <td>Manager</td>\n",
       "      <td>51531</td>\n",
       "    </tr>\n",
       "    <tr>\n",
       "      <th>3</th>\n",
       "      <td>Senior Engineer</td>\n",
       "      <td>48507</td>\n",
       "    </tr>\n",
       "    <tr>\n",
       "      <th>4</th>\n",
       "      <td>Senior Staff</td>\n",
       "      <td>58550</td>\n",
       "    </tr>\n",
       "    <tr>\n",
       "      <th>5</th>\n",
       "      <td>Staff</td>\n",
       "      <td>58465</td>\n",
       "    </tr>\n",
       "    <tr>\n",
       "      <th>6</th>\n",
       "      <td>Technique Leader</td>\n",
       "      <td>48583</td>\n",
       "    </tr>\n",
       "  </tbody>\n",
       "</table>\n",
       "</div>"
      ],
      "text/plain": [
       "                Title  Avg Salary\n",
       "0  Assistant Engineer       48564\n",
       "1            Engineer       48535\n",
       "2             Manager       51531\n",
       "3     Senior Engineer       48507\n",
       "4        Senior Staff       58550\n",
       "5               Staff       58465\n",
       "6    Technique Leader       48583"
      ]
     },
     "execution_count": 8,
     "metadata": {},
     "output_type": "execute_result"
    }
   ],
   "source": [
    "#Create a Pandas DataFrame to analyze the salary data\n",
    "title_avg_salary_df = pd.DataFrame(ResultSet)\n",
    "title_avg_salary_df.columns = ['Title','Avg Salary']\n",
    "title_avg_salary_df"
   ]
  },
  {
   "cell_type": "code",
   "execution_count": 9,
   "metadata": {
    "ExecuteTime": {
     "end_time": "2020-04-29T17:22:24.338129Z",
     "start_time": "2020-04-29T17:22:23.767762Z"
    }
   },
   "outputs": [
    {
     "data": {
      "image/png": "[encoded data removed]",
      "text/plain": [
       "<Figure size 1008x432 with 1 Axes>"
      ]
     },
     "metadata": {
      "needs_background": "light"
     },
     "output_type": "display_data"
    }
   ],
   "source": [
    "plt.figure(figsize=[14,6])\n",
    "plt.title('Average Salary by Employee Title', fontsize=15)\n",
    "plt.xlabel('Employee Title', fontsize=15)\n",
    "plt.ylabel('Average Salary', fontsize=15)\n",
    "plt.xticks(fontsize=12)\n",
    "plt.yticks(fontsize=12)\n",
    "\n",
    "x_axis = title_avg_salary_df['Title']\n",
    "y_axis = title_avg_salary_df['Avg Salary']\n",
    "\n",
    "# Number of bars\n",
    "N = len(title_avg_salary_df)\n",
    "map_df = pd.Series(np.random.randint(10, 50, N), index=np.arange(1, N+1))\n",
    "cmap = plt.cm.tab10\n",
    "colors = cmap(np.arange(len(map_df)) % cmap.N)\n",
    "                  \n",
    "plt.bar(x_axis, y_axis, color=colors)\n",
    "plt.grid(axis='y', alpha=0.75)\n",
    "\n",
    "plt.savefig('./output/fig02-avg-salary-by-title.png', format='png', bbox_inches='tight', dpi=300)"
   ]
  },
  {
   "cell_type": "code",
   "execution_count": null,
   "metadata": {},
   "outputs": [],
   "source": []
  }
 ],
 "metadata": {
  "kernelspec": {
   "display_name": "Python 3.7.6 64-bit ('PythonData2020_1': conda)",
   "language": "python",
   "name": "python37664bitpythondata20201conda6baabde948e8485c8acdbdb1f5c8dec5"
  },
  "language_info": {
   "codemirror_mode": {
    "name": "ipython",
    "version": 3
   },
   "file_extension": ".py",
   "mimetype": "text/x-python",
   "name": "python",
   "nbconvert_exporter": "python",
   "pygments_lexer": "ipython3",
   "version": "3.8.2"
  },
  "latex_envs": {
   "LaTeX_envs_menu_present": true,
   "autoclose": false,
   "autocomplete": true,
   "bibliofile": "biblio.bib",
   "cite_by": "apalike",
   "current_citInitial": 1,
   "eqLabelWithNumbers": true,
   "eqNumInitial": 1,
   "hotkeys": {
    "equation": "Ctrl-E",
    "itemize": "Ctrl-I"
   },
   "labels_anchors": false,
   "latex_user_defs": false,
   "report_style_numbering": false,
   "user_envs_cfg": false
  },
  "toc": {
   "base_numbering": 1,
   "nav_menu": {},
   "number_sections": true,
   "sideBar": true,
   "skip_h1_title": false,
   "title_cell": "Table of Contents",
   "title_sidebar": "Contents",
   "toc_cell": false,
   "toc_position": {},
   "toc_section_display": true,
   "toc_window_display": false
  }
 },
 "nbformat": 4,
 "nbformat_minor": 4
}
